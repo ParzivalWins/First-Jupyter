{
  "nbformat": 4,
  "nbformat_minor": 0,
  "metadata": {
    "colab": {
      "name": "Share-With-DeepNote.ipynb",
      "provenance": [],
      "authorship_tag": "ABX9TyO1PUptJlpJIVuGLVYQ1ax1",
      "include_colab_link": true
    },
    "kernelspec": {
      "name": "python3",
      "display_name": "Python 3"
    }
  },
  "cells": [
    {
      "cell_type": "markdown",
      "metadata": {
        "id": "view-in-github",
        "colab_type": "text"
      },
      "source": [
        "<a href=\"https://colab.research.google.com/github/ParzivalWins/First-Jupyter/blob/master/Share_With_DeepNote.ipynb\" target=\"_parent\"><img src=\"https://colab.research.google.com/assets/colab-badge.svg\" alt=\"Open In Colab\"/></a>"
      ]
    },
    {
      "cell_type": "markdown",
      "metadata": {
        "id": "Tnq1jpFS7xID",
        "colab_type": "text"
      },
      "source": [
        "This is a markdown cell"
      ]
    },
    {
      "cell_type": "markdown",
      "metadata": {
        "id": "oh2nIE9i7NcZ",
        "colab_type": "text"
      },
      "source": [
        "Another Markdown Cell"
      ]
    },
    {
      "cell_type": "code",
      "metadata": {
        "id": "DvWoxMCx8wDy",
        "colab_type": "code",
        "colab": {}
      },
      "source": [
        ""
      ],
      "execution_count": null,
      "outputs": []
    }
  ]
}